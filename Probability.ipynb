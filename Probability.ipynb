{
 "cells": [
  {
   "cell_type": "markdown",
   "id": "89f458d0",
   "metadata": {},
   "source": [
    "### Задача 1\n",
    "- Даны значения зарплат из выборки выпускников:\n",
    "- 100, 80, 75, 77, 89, 33, 45, 25, 65, 17, 30, 230, 24, 57, 55, 70, 75, 65, 84, 90, 150\n",
    "- Используя только встроенные питоновские функции и структуры данных (т.е. без библиотек numpy, pandas и др.), посчитайте(несмещённое) среднее квадратичное отклонение для данной выборки."
   ]
  },
  {
   "cell_type": "code",
   "execution_count": 32,
   "id": "661bf8d8",
   "metadata": {},
   "outputs": [],
   "source": [
    "import math\n",
    "def un_stan_dev(a:list):\n",
    "    \"\"\"\n",
    "    This function calculates the unbiased standard deviation of the list values. The list values should be of type int or float\n",
    "    \"\"\"\n",
    "    for x in a:\n",
    "        assert type(x) in (int,float), print ('Only ints or floats in the list allowed!')\n",
    "        \n",
    "    av=sum(a)/len(a)\n",
    "    return round(math.sqrt(sum([(x-av)**2 for x in a])/(len(a)-1)),8)"
   ]
  },
  {
   "cell_type": "code",
   "execution_count": 33,
   "id": "2da1c310",
   "metadata": {},
   "outputs": [
    {
     "data": {
      "text/plain": [
       "47.34795214"
      ]
     },
     "execution_count": 33,
     "metadata": {},
     "output_type": "execute_result"
    }
   ],
   "source": [
    "un_stan_dev([100, 80, 75, 77, 89, 33, 45, 25, 65, 17, 30, 230, 24, 57, 55, 70, 75, 65, 84, 90, 150])"
   ]
  },
  {
   "cell_type": "markdown",
   "id": "86ef31fc",
   "metadata": {},
   "source": [
    "### Задача 2\n",
    "- Найдите число выбросов в выборке из задачи 1. Для определения выбросов используйте методику как при построении “усов” в boxplot, однако, как и в задаче 1, пользоваться можно только встроенными функциями и структурами данных.\n"
   ]
  },
  {
   "cell_type": "code",
   "execution_count": 132,
   "id": "8b8005a1",
   "metadata": {},
   "outputs": [],
   "source": [
    "def outliers(a:list):\n",
    "    \"\"\"\n",
    "    This function returns the outliers of a list sequnece.\n",
    "    \"\"\"\n",
    "    assert type(a)==list and len(a)>=4, \"Only lists of length 2 plus allowed!\"\n",
    "    for x in a:\n",
    "        assert type(x) in (int,float), print ('Only ints or floats in the list allowed!')\n",
    "        \n",
    "    a.sort()\n",
    "    quartile=[]\n",
    "    mid=len(a)//2\n",
    "    \n",
    "    if len(a)%2:\n",
    "        left=a[:mid]\n",
    "        right=a[mid+1:]\n",
    "    else:\n",
    "        left=a[:mid]\n",
    "        right=a[mid:]\n",
    "        \n",
    "    def quartiles(b:list):\n",
    "        \n",
    "        return quartile.append(b[len(b)//2]) if len(b)%2 else quartile.append((b[len(b)//2-1]+b[len(b)//2])/2)\n",
    "             \n",
    "        \n",
    "    print (f'a sorted = {a}')\n",
    "    quartiles(left)\n",
    "    quartiles(a)\n",
    "    quartiles(right)\n",
    "    print(f'quartiles 1,2,3 = {quartile}')\n",
    "    irq=quartile[-1]-quartile[0]\n",
    "    l_border=quartile[0]-1.5*irq\n",
    "    r_border=quartile[-1]+1.5*irq\n",
    "    print(f'left border = {l_border}, right border = {r_border}')\n",
    "    final={'l_out':[],'r_out':[]}\n",
    "    for x in left:\n",
    "        if x<l_border:\n",
    "            final['l_out'].append(x)\n",
    "    for y in right:\n",
    "        if y>r_border:\n",
    "            final['r_out'].append(y)\n",
    "            \n",
    "    return final\n",
    "\n",
    "\n",
    "      \n",
    "\n",
    "            \n",
    "\n",
    "        \n",
    "        \n",
    "   \n",
    "            \n",
    "            \n",
    "           \n",
    "\n",
    "    \n",
    "    \n",
    " "
   ]
  },
  {
   "cell_type": "code",
   "execution_count": 133,
   "id": "b9e831d6",
   "metadata": {},
   "outputs": [
    {
     "name": "stdout",
     "output_type": "stream",
     "text": [
      "a sorted = [17, 24, 25, 30, 33, 45, 55, 57, 65, 65, 70, 75, 75, 77, 80, 84, 89, 90, 100, 150, 230]\n",
      "quartiles 1,2,3 = [39.0, 70, 86.5]\n",
      "left border = -32.25, right border = 157.75\n"
     ]
    },
    {
     "data": {
      "text/plain": [
       "{'l_out': [], 'r_out': [230]}"
      ]
     },
     "execution_count": 133,
     "metadata": {},
     "output_type": "execute_result"
    }
   ],
   "source": [
    "outliers([100, 80, 75, 77, 89, 33, 45, 25, 65, 17, 30, 230, 24, 57, 55, 70, 75, 65, 84, 90, 150])"
   ]
  },
  {
   "cell_type": "markdown",
   "id": "6c5e169a",
   "metadata": {},
   "source": [
    "## # Задача 3\n",
    "- В университет на факультет A поступило 100 человек, на факультет B - 90 человек и на факультет C - 45 человек. \n",
    "- Вероятность того, что студент с факультета A сдаст первую сессию, равна 0.6. \n",
    "- Для студента с факультета B эта вероятность равна 0.7, а для студента с факультета C - 0.8. \n",
    "- Случайным образом выбирается студент, сдавший первую сессию. Какое событие наиболее вероятно:\n",
    "    \n",
    "студент учится на факультете A,\n",
    "студент учится на факультете B,\n",
    "студент учится на факультете C?\n",
    "\n"
   ]
  },
  {
   "cell_type": "code",
   "execution_count": 135,
   "id": "2a0e4a6f",
   "metadata": {},
   "outputs": [
    {
     "data": {
      "text/plain": [
       "159.0"
      ]
     },
     "execution_count": 135,
     "metadata": {},
     "output_type": "execute_result"
    }
   ],
   "source": [
    "# Ожидается что следующее количество студентов стадст тест Q\n",
    "Q=100*0.6+90*0.7+45*0.8\n",
    "Q"
   ]
  },
  {
   "cell_type": "code",
   "execution_count": 142,
   "id": "ab45d10a",
   "metadata": {},
   "outputs": [
    {
     "data": {
      "text/plain": [
       "{'A': 38, 'B': 40, 'C': 23}"
      ]
     },
     "execution_count": 142,
     "metadata": {},
     "output_type": "execute_result"
    }
   ],
   "source": [
    "# При выборке случайным образом, вероятность того, что это будут студенты разных групп равна:\n",
    "\n",
    "passed={'A':round(100*0.6/Q*100), \n",
    "        'B':round(90*0.7/Q*100),\n",
    "        'C':round(45*0.8/Q*100)}\n",
    "passed"
   ]
  },
  {
   "cell_type": "markdown",
   "id": "4e2804a4",
   "metadata": {},
   "source": [
    "Как видим, при выборе случайным из группы стадвших студентов, самая высокая вероятность (40%) выбрать студента из группы В"
   ]
  },
  {
   "cell_type": "code",
   "execution_count": null,
   "id": "5f68b8e1",
   "metadata": {},
   "outputs": [],
   "source": []
  }
 ],
 "metadata": {
  "kernelspec": {
   "display_name": "Python 3 (ipykernel)",
   "language": "python",
   "name": "python3"
  },
  "language_info": {
   "codemirror_mode": {
    "name": "ipython",
    "version": 3
   },
   "file_extension": ".py",
   "mimetype": "text/x-python",
   "name": "python",
   "nbconvert_exporter": "python",
   "pygments_lexer": "ipython3",
   "version": "3.8.12"
  }
 },
 "nbformat": 4,
 "nbformat_minor": 5
}
